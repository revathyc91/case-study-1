{
 "cells": [
  {
   "cell_type": "code",
   "execution_count": 1,
   "id": "1a48f0b5",
   "metadata": {},
   "outputs": [],
   "source": [
    "import pandas as pd\n",
    "import numpy as np\n",
    "import matplotlib.pyplot as plt\n",
    "import seaborn as sns"
   ]
  },
  {
   "cell_type": "code",
   "execution_count": 2,
   "id": "c4443c41",
   "metadata": {},
   "outputs": [],
   "source": [
    "#read the dataset"
   ]
  },
  {
   "cell_type": "code",
   "execution_count": 3,
   "id": "94235154",
   "metadata": {},
   "outputs": [],
   "source": [
    "data=pd.read_csv(r\"H:\\C\\user\\Downloads\\car_age_price.csv\")"
   ]
  },
  {
   "cell_type": "code",
   "execution_count": 4,
   "id": "5354e7ce",
   "metadata": {},
   "outputs": [
    {
     "data": {
      "text/html": [
       "<div>\n",
       "<style scoped>\n",
       "    .dataframe tbody tr th:only-of-type {\n",
       "        vertical-align: middle;\n",
       "    }\n",
       "\n",
       "    .dataframe tbody tr th {\n",
       "        vertical-align: top;\n",
       "    }\n",
       "\n",
       "    .dataframe thead th {\n",
       "        text-align: right;\n",
       "    }\n",
       "</style>\n",
       "<table border=\"1\" class=\"dataframe\">\n",
       "  <thead>\n",
       "    <tr style=\"text-align: right;\">\n",
       "      <th></th>\n",
       "      <th>Year</th>\n",
       "      <th>Price</th>\n",
       "    </tr>\n",
       "  </thead>\n",
       "  <tbody>\n",
       "    <tr>\n",
       "      <th>0</th>\n",
       "      <td>2018</td>\n",
       "      <td>465000</td>\n",
       "    </tr>\n",
       "    <tr>\n",
       "      <th>1</th>\n",
       "      <td>2019</td>\n",
       "      <td>755000</td>\n",
       "    </tr>\n",
       "    <tr>\n",
       "      <th>2</th>\n",
       "      <td>2019</td>\n",
       "      <td>700000</td>\n",
       "    </tr>\n",
       "    <tr>\n",
       "      <th>3</th>\n",
       "      <td>2018</td>\n",
       "      <td>465000</td>\n",
       "    </tr>\n",
       "    <tr>\n",
       "      <th>4</th>\n",
       "      <td>2018</td>\n",
       "      <td>465000</td>\n",
       "    </tr>\n",
       "  </tbody>\n",
       "</table>\n",
       "</div>"
      ],
      "text/plain": [
       "   Year   Price\n",
       "0  2018  465000\n",
       "1  2019  755000\n",
       "2  2019  700000\n",
       "3  2018  465000\n",
       "4  2018  465000"
      ]
     },
     "execution_count": 4,
     "metadata": {},
     "output_type": "execute_result"
    }
   ],
   "source": [
    "data.head()\n"
   ]
  },
  {
   "cell_type": "code",
   "execution_count": 5,
   "id": "c9cd59d9",
   "metadata": {},
   "outputs": [
    {
     "data": {
      "text/plain": [
       "Index(['Year', 'Price'], dtype='object')"
      ]
     },
     "execution_count": 5,
     "metadata": {},
     "output_type": "execute_result"
    }
   ],
   "source": [
    "# check for column names\n",
    "data.columns"
   ]
  },
  {
   "cell_type": "code",
   "execution_count": 6,
   "id": "491925c8",
   "metadata": {},
   "outputs": [
    {
     "data": {
      "text/plain": [
       "Year     int64\n",
       "Price    int64\n",
       "dtype: object"
      ]
     },
     "execution_count": 6,
     "metadata": {},
     "output_type": "execute_result"
    }
   ],
   "source": [
    "#check datatypes\n",
    "data.dtypes"
   ]
  },
  {
   "cell_type": "code",
   "execution_count": 7,
   "id": "5f9d62f6",
   "metadata": {},
   "outputs": [
    {
     "data": {
      "text/plain": [
       "(112, 2)"
      ]
     },
     "execution_count": 7,
     "metadata": {},
     "output_type": "execute_result"
    }
   ],
   "source": [
    "#check shape\n",
    "data.shape"
   ]
  },
  {
   "cell_type": "code",
   "execution_count": 8,
   "id": "6140d5f5",
   "metadata": {},
   "outputs": [
    {
     "name": "stdout",
     "output_type": "stream",
     "text": [
      "<class 'pandas.core.frame.DataFrame'>\n",
      "RangeIndex: 112 entries, 0 to 111\n",
      "Data columns (total 2 columns):\n",
      " #   Column  Non-Null Count  Dtype\n",
      "---  ------  --------------  -----\n",
      " 0   Year    112 non-null    int64\n",
      " 1   Price   112 non-null    int64\n",
      "dtypes: int64(2)\n",
      "memory usage: 1.9 KB\n"
     ]
    }
   ],
   "source": [
    "# check informations\n",
    "data.info()"
   ]
  },
  {
   "cell_type": "code",
   "execution_count": 9,
   "id": "65517669",
   "metadata": {},
   "outputs": [
    {
     "data": {
      "text/html": [
       "<div>\n",
       "<style scoped>\n",
       "    .dataframe tbody tr th:only-of-type {\n",
       "        vertical-align: middle;\n",
       "    }\n",
       "\n",
       "    .dataframe tbody tr th {\n",
       "        vertical-align: top;\n",
       "    }\n",
       "\n",
       "    .dataframe thead th {\n",
       "        text-align: right;\n",
       "    }\n",
       "</style>\n",
       "<table border=\"1\" class=\"dataframe\">\n",
       "  <thead>\n",
       "    <tr style=\"text-align: right;\">\n",
       "      <th></th>\n",
       "      <th>Year</th>\n",
       "      <th>Price</th>\n",
       "    </tr>\n",
       "  </thead>\n",
       "  <tbody>\n",
       "    <tr>\n",
       "      <th>count</th>\n",
       "      <td>112.000000</td>\n",
       "      <td>112.000000</td>\n",
       "    </tr>\n",
       "    <tr>\n",
       "      <th>mean</th>\n",
       "      <td>2016.669643</td>\n",
       "      <td>483866.044643</td>\n",
       "    </tr>\n",
       "    <tr>\n",
       "      <th>std</th>\n",
       "      <td>1.629616</td>\n",
       "      <td>91217.450533</td>\n",
       "    </tr>\n",
       "    <tr>\n",
       "      <th>min</th>\n",
       "      <td>2013.000000</td>\n",
       "      <td>300000.000000</td>\n",
       "    </tr>\n",
       "    <tr>\n",
       "      <th>25%</th>\n",
       "      <td>2015.000000</td>\n",
       "      <td>423750.000000</td>\n",
       "    </tr>\n",
       "    <tr>\n",
       "      <th>50%</th>\n",
       "      <td>2017.000000</td>\n",
       "      <td>500000.000000</td>\n",
       "    </tr>\n",
       "    <tr>\n",
       "      <th>75%</th>\n",
       "      <td>2017.000000</td>\n",
       "      <td>550000.000000</td>\n",
       "    </tr>\n",
       "    <tr>\n",
       "      <th>max</th>\n",
       "      <td>2020.000000</td>\n",
       "      <td>755000.000000</td>\n",
       "    </tr>\n",
       "  </tbody>\n",
       "</table>\n",
       "</div>"
      ],
      "text/plain": [
       "              Year          Price\n",
       "count   112.000000     112.000000\n",
       "mean   2016.669643  483866.044643\n",
       "std       1.629616   91217.450533\n",
       "min    2013.000000  300000.000000\n",
       "25%    2015.000000  423750.000000\n",
       "50%    2017.000000  500000.000000\n",
       "75%    2017.000000  550000.000000\n",
       "max    2020.000000  755000.000000"
      ]
     },
     "execution_count": 9,
     "metadata": {},
     "output_type": "execute_result"
    }
   ],
   "source": [
    "data.describe()"
   ]
  },
  {
   "cell_type": "code",
   "execution_count": 10,
   "id": "d71b7a59",
   "metadata": {},
   "outputs": [
    {
     "data": {
      "text/plain": [
       "array([2018, 2019, 2015, 2016, 2017, 2020, 2013, 2014], dtype=int64)"
      ]
     },
     "execution_count": 10,
     "metadata": {},
     "output_type": "execute_result"
    }
   ],
   "source": [
    "# check for unique values\n",
    "data['Year'].unique()"
   ]
  },
  {
   "cell_type": "code",
   "execution_count": 11,
   "id": "9a15c545",
   "metadata": {},
   "outputs": [
    {
     "data": {
      "text/plain": [
       "array([465000, 755000, 700000, 350000, 425000, 575000, 509999, 500000,\n",
       "       600000, 475000, 550000, 434999, 650000, 450000, 486000, 545000,\n",
       "       525000, 396000, 325000, 345000, 341000, 490000, 540000, 595000,\n",
       "       495000, 400000, 300000, 320000, 409999, 390000, 480000, 520000,\n",
       "       640000, 375000, 420000], dtype=int64)"
      ]
     },
     "execution_count": 11,
     "metadata": {},
     "output_type": "execute_result"
    }
   ],
   "source": [
    "data['Price'].unique()"
   ]
  },
  {
   "cell_type": "code",
   "execution_count": 12,
   "id": "7fcf464f",
   "metadata": {},
   "outputs": [
    {
     "data": {
      "text/plain": [
       "Year     0\n",
       "Price    0\n",
       "dtype: int64"
      ]
     },
     "execution_count": 12,
     "metadata": {},
     "output_type": "execute_result"
    }
   ],
   "source": [
    "#check for null values\n",
    "data.isnull().sum()"
   ]
  },
  {
   "cell_type": "code",
   "execution_count": 13,
   "id": "03c0887e",
   "metadata": {},
   "outputs": [],
   "source": [
    "#no null values then check for outliers"
   ]
  },
  {
   "cell_type": "code",
   "execution_count": 14,
   "id": "aac4f53b",
   "metadata": {},
   "outputs": [],
   "source": [
    "#check for outliers using boxplot"
   ]
  },
  {
   "cell_type": "code",
   "execution_count": 15,
   "id": "79cdcdb6",
   "metadata": {},
   "outputs": [
    {
     "data": {
      "image/png": "[encoded data removed]",
      "text/plain": [
       "<Figure size 432x288 with 1 Axes>"
      ]
     },
     "metadata": {
      "needs_background": "light"
     },
     "output_type": "display_data"
    }
   ],
   "source": [
    "plt.boxplot(data['Year'])\n",
    "plt.title('box plot of  Year column')\n",
    "plt.show()"
   ]
  },
  {
   "cell_type": "code",
   "execution_count": 16,
   "id": "3ec7dd79",
   "metadata": {},
   "outputs": [
    {
     "data": {
      "image/png": "[encoded data removed]",
      "text/plain": [
       "<Figure size 432x288 with 1 Axes>"
      ]
     },
     "metadata": {
      "needs_background": "light"
     },
     "output_type": "display_data"
    }
   ],
   "source": [
    "plt.boxplot(data['Price'])\n",
    "plt.title('box plot of  Price column')\n",
    "plt.show()"
   ]
  },
  {
   "cell_type": "code",
   "execution_count": 17,
   "id": "562374fb",
   "metadata": {},
   "outputs": [],
   "source": [
    "#finding outliers in price column"
   ]
  },
  {
   "cell_type": "code",
   "execution_count": 18,
   "id": "a7149a0a",
   "metadata": {},
   "outputs": [],
   "source": [
    "Q1=np.percentile(data['Price'],25,interpolation='midpoint')\n",
    "Q2=np.percentile(data['Price'],50,interpolation='midpoint')\n",
    "Q3=np.percentile(data['Price'],75,interpolation='midpoint')\n"
   ]
  },
  {
   "cell_type": "code",
   "execution_count": 19,
   "id": "0e28e46b",
   "metadata": {},
   "outputs": [
    {
     "name": "stdout",
     "output_type": "stream",
     "text": [
      "422500.0\n",
      "500000.0\n",
      "550000.0\n"
     ]
    }
   ],
   "source": [
    "print(Q1)\n",
    "print(Q2)\n",
    "print(Q3)"
   ]
  },
  {
   "cell_type": "code",
   "execution_count": 20,
   "id": "82b044a5",
   "metadata": {},
   "outputs": [],
   "source": [
    "IQR=Q3-Q1"
   ]
  },
  {
   "cell_type": "code",
   "execution_count": 21,
   "id": "ad30b000",
   "metadata": {},
   "outputs": [
    {
     "name": "stdout",
     "output_type": "stream",
     "text": [
      "127500.0\n"
     ]
    }
   ],
   "source": [
    "print(IQR)"
   ]
  },
  {
   "cell_type": "code",
   "execution_count": 22,
   "id": "f7924c23",
   "metadata": {},
   "outputs": [],
   "source": [
    "low_lim=Q1-1.5*IQR\n",
    "\n",
    "up_lim=Q3+1.5*IQR"
   ]
  },
  {
   "cell_type": "code",
   "execution_count": 23,
   "id": "d2d6fa33",
   "metadata": {},
   "outputs": [
    {
     "name": "stdout",
     "output_type": "stream",
     "text": [
      "231250.0\n",
      "741250.0\n"
     ]
    }
   ],
   "source": [
    "print(low_lim)\n",
    "print(up_lim)\n"
   ]
  },
  {
   "cell_type": "code",
   "execution_count": 24,
   "id": "7e27b240",
   "metadata": {},
   "outputs": [],
   "source": [
    "outlier=[]\n",
    "for x in data['Price']:\n",
    "    if((x>up_lim) or (x<low_lim)):\n",
    "        outlier.append(x)"
   ]
  },
  {
   "cell_type": "code",
   "execution_count": 25,
   "id": "9c74729b",
   "metadata": {},
   "outputs": [
    {
     "data": {
      "text/plain": [
       "1"
      ]
     },
     "execution_count": 25,
     "metadata": {},
     "output_type": "execute_result"
    }
   ],
   "source": [
    "len(outlier)"
   ]
  },
  {
   "cell_type": "code",
   "execution_count": 26,
   "id": "47764728",
   "metadata": {},
   "outputs": [
    {
     "data": {
      "text/plain": [
       "[755000]"
      ]
     },
     "execution_count": 26,
     "metadata": {},
     "output_type": "execute_result"
    }
   ],
   "source": [
    "outlier"
   ]
  },
  {
   "cell_type": "code",
   "execution_count": 27,
   "id": "3259a13f",
   "metadata": {},
   "outputs": [],
   "source": [
    "ind=data['Price']>up_lim"
   ]
  },
  {
   "cell_type": "code",
   "execution_count": 28,
   "id": "660425e8",
   "metadata": {},
   "outputs": [
    {
     "data": {
      "text/plain": [
       "Int64Index([1], dtype='int64')"
      ]
     },
     "execution_count": 28,
     "metadata": {},
     "output_type": "execute_result"
    }
   ],
   "source": [
    "data.loc[ind].index"
   ]
  },
  {
   "cell_type": "markdown",
   "id": "fdb0e8e7",
   "metadata": {},
   "source": [
    "# 1.Find the best linear relationship between year and price. "
   ]
  },
  {
   "cell_type": "code",
   "execution_count": 29,
   "id": "bd094a23",
   "metadata": {},
   "outputs": [],
   "source": [
    "x=data['Year']\n",
    "y=data['Price']"
   ]
  },
  {
   "cell_type": "code",
   "execution_count": 30,
   "id": "e1adde3a",
   "metadata": {},
   "outputs": [],
   "source": [
    "m,b=np.polyfit(x,y,1)   #m=slope,b=intercept\n"
   ]
  },
  {
   "cell_type": "code",
   "execution_count": 31,
   "id": "113da222",
   "metadata": {},
   "outputs": [
    {
     "data": {
      "text/plain": [
       "[<matplotlib.lines.Line2D at 0x83dd415100>]"
      ]
     },
     "execution_count": 31,
     "metadata": {},
     "output_type": "execute_result"
    },
    {
     "data": {
      "image/png": "[encoded data removed]",
      "text/plain": [
       "<Figure size 432x288 with 1 Axes>"
      ]
     },
     "metadata": {
      "needs_background": "light"
     },
     "output_type": "display_data"
    }
   ],
   "source": [
    "#create scatter plot\n",
    "plt.plot(x,y,'o')\n",
    "#create line of fit\n",
    "plt.plot(x,m*x+b)"
   ]
  },
  {
   "cell_type": "code",
   "execution_count": 32,
   "id": "cf051d32",
   "metadata": {},
   "outputs": [
    {
     "name": "stdout",
     "output_type": "stream",
     "text": [
      "value of m = 43453.379887929186\n",
      "value of b =  -87147246.05488305\n"
     ]
    }
   ],
   "source": [
    "print('value of m =',m)\n",
    "print('value of b = ',b)"
   ]
  },
  {
   "cell_type": "markdown",
   "id": "ccb48a29",
   "metadata": {},
   "source": [
    "# predicting value in 2022 from best line of fit"
   ]
  },
  {
   "cell_type": "code",
   "execution_count": 33,
   "id": "f79eeb0a",
   "metadata": {},
   "outputs": [],
   "source": [
    "x=2022"
   ]
  },
  {
   "cell_type": "code",
   "execution_count": 34,
   "id": "9f9bc242",
   "metadata": {},
   "outputs": [],
   "source": [
    "y=m*x+b"
   ]
  },
  {
   "cell_type": "code",
   "execution_count": 35,
   "id": "0f86bc0f",
   "metadata": {},
   "outputs": [
    {
     "name": "stdout",
     "output_type": "stream",
     "text": [
      "predicted value in 2022 from best line of fit 715488.0785097629\n"
     ]
    }
   ],
   "source": [
    "print('predicted value in 2022 from best line of fit',y)"
   ]
  },
  {
   "cell_type": "markdown",
   "id": "92e62cf2",
   "metadata": {},
   "source": [
    "## Please learn about lasso regression and create a model along with linear regression.find out which one is performing better"
   ]
  },
  {
   "cell_type": "code",
   "execution_count": 36,
   "id": "1476dddd",
   "metadata": {},
   "outputs": [],
   "source": [
    "#correlation  with price and year"
   ]
  },
  {
   "cell_type": "code",
   "execution_count": 37,
   "id": "1e7d69b9",
   "metadata": {},
   "outputs": [
    {
     "data": {
      "text/plain": [
       "<AxesSubplot:>"
      ]
     },
     "execution_count": 37,
     "metadata": {},
     "output_type": "execute_result"
    },
    {
     "data": {
      "image/png": "[encoded data removed]",
      "text/plain": [
       "<Figure size 720x288 with 2 Axes>"
      ]
     },
     "metadata": {
      "needs_background": "light"
     },
     "output_type": "display_data"
    }
   ],
   "source": [
    "corrmatrix=data.corr()\n",
    "plt.subplots(figsize=(10,4))\n",
    "sns.heatmap(corrmatrix,vmin=0.2,vmax=0.9,annot=True,cmap= 'YlGnBu')"
   ]
  },
  {
   "cell_type": "code",
   "execution_count": 38,
   "id": "e94db5f6",
   "metadata": {},
   "outputs": [],
   "source": [
    "#taking price as target and year as feature"
   ]
  },
  {
   "cell_type": "code",
   "execution_count": 39,
   "id": "b2db224e",
   "metadata": {},
   "outputs": [],
   "source": [
    "X = data.drop('Price',axis=1)\n",
    "y=data['Price']\n"
   ]
  },
  {
   "cell_type": "code",
   "execution_count": 40,
   "id": "0e56fd82",
   "metadata": {},
   "outputs": [],
   "source": [
    "from sklearn.model_selection import train_test_split"
   ]
  },
  {
   "cell_type": "code",
   "execution_count": 41,
   "id": "3de051b4",
   "metadata": {},
   "outputs": [],
   "source": [
    "X_train,X_test,y_train,y_test=train_test_split(X,y,test_size=.2,random_state=42)"
   ]
  },
  {
   "cell_type": "markdown",
   "id": "016f0fe7",
   "metadata": {},
   "source": [
    "# lasso regression"
   ]
  },
  {
   "cell_type": "code",
   "execution_count": 42,
   "id": "38b7157b",
   "metadata": {},
   "outputs": [],
   "source": [
    "from sklearn.linear_model import Lasso"
   ]
  },
  {
   "cell_type": "code",
   "execution_count": 43,
   "id": "e9666d1f",
   "metadata": {},
   "outputs": [],
   "source": [
    "lasso=Lasso(alpha=0.001)\n",
    "lasso.fit(X_train,y_train)\n",
    "y_pred1=lasso.predict(X_test)"
   ]
  },
  {
   "cell_type": "code",
   "execution_count": 44,
   "id": "c099084f",
   "metadata": {},
   "outputs": [
    {
     "name": "stdout",
     "output_type": "stream",
     "text": [
      "Mean squared error on test set 4326906210.343814\n",
      "  Columns  Coefficient Estimate\n",
      "0    Year          47608.567396\n"
     ]
    }
   ],
   "source": [
    "# Calculate Mean Squared Error\n",
    "mean_squared_error = np.mean((y_pred1 - y_test)**2)\n",
    "print(\"Mean squared error on test set\", mean_squared_error)\n",
    "lasso_coeff = pd.DataFrame()\n",
    "lasso_coeff[\"Columns\"] = X_train.columns\n",
    "lasso_coeff['Coefficient Estimate'] = pd.Series(lasso.coef_)\n",
    " \n",
    "print(lasso_coeff)"
   ]
  },
  {
   "cell_type": "code",
   "execution_count": 45,
   "id": "9dacfcf7",
   "metadata": {},
   "outputs": [],
   "source": [
    "#lasso prediction in 2022"
   ]
  },
  {
   "cell_type": "code",
   "execution_count": 46,
   "id": "36b387cc",
   "metadata": {},
   "outputs": [
    {
     "name": "stderr",
     "output_type": "stream",
     "text": [
      "C:\\Users\\user\\anaconda3\\lib\\site-packages\\sklearn\\base.py:450: UserWarning: X does not have valid feature names, but Lasso was fitted with feature names\n",
      "  warnings.warn(\n"
     ]
    }
   ],
   "source": [
    "y_pred1=lasso.predict([[2022]])"
   ]
  },
  {
   "cell_type": "code",
   "execution_count": 47,
   "id": "4f710cf9",
   "metadata": {},
   "outputs": [
    {
     "name": "stdout",
     "output_type": "stream",
     "text": [
      "lasso prediction value of 2022 model  [743601.61370337]\n"
     ]
    }
   ],
   "source": [
    "print('lasso prediction value of 2022 model ',y_pred1)"
   ]
  },
  {
   "cell_type": "markdown",
   "id": "af232471",
   "metadata": {},
   "source": [
    "# linear regression"
   ]
  },
  {
   "cell_type": "code",
   "execution_count": 48,
   "id": "0c5c1bc1",
   "metadata": {},
   "outputs": [],
   "source": [
    "from sklearn.linear_model import LinearRegression\n",
    "lr=LinearRegression()\n",
    "model=lr.fit(X_train,y_train)\n",
    "predictions=model.predict(X_test)"
   ]
  },
  {
   "cell_type": "code",
   "execution_count": 49,
   "id": "1924abd2",
   "metadata": {},
   "outputs": [
    {
     "name": "stdout",
     "output_type": "stream",
     "text": [
      "Mean aquare error is : 4326906256.829671\n",
      "R squared value is :  0.36759313425902185\n"
     ]
    }
   ],
   "source": [
    "from sklearn.metrics import mean_squared_error,r2_score\n",
    "print('Mean aquare error is :',mean_squared_error(y_test,predictions))\n",
    "print('R squared value is : ',r2_score(y_test,predictions))\n",
    "      "
   ]
  },
  {
   "cell_type": "code",
   "execution_count": 50,
   "id": "b4e0be9f",
   "metadata": {},
   "outputs": [],
   "source": [
    "#predict the price in 2022 using linear regression"
   ]
  },
  {
   "cell_type": "code",
   "execution_count": 51,
   "id": "4e3331f5",
   "metadata": {},
   "outputs": [
    {
     "name": "stderr",
     "output_type": "stream",
     "text": [
      "C:\\Users\\user\\anaconda3\\lib\\site-packages\\sklearn\\base.py:450: UserWarning: X does not have valid feature names, but LinearRegression was fitted with feature names\n",
      "  warnings.warn(\n"
     ]
    }
   ],
   "source": [
    "prediction=model.predict([[2022]])"
   ]
  },
  {
   "cell_type": "code",
   "execution_count": 52,
   "id": "798a36fd",
   "metadata": {},
   "outputs": [
    {
     "name": "stdout",
     "output_type": "stream",
     "text": [
      "linear regression prediction value of 2022  model [743601.61594504]\n"
     ]
    }
   ],
   "source": [
    "print('linear regression prediction value of 2022  model',prediction)"
   ]
  },
  {
   "cell_type": "markdown",
   "id": "2efba9ec",
   "metadata": {},
   "source": [
    "# predicted values"
   ]
  },
  {
   "cell_type": "markdown",
   "id": "4a65310c",
   "metadata": {},
   "source": [
    "predicted value of 2022 model  from best line of fit 715488.0785097629"
   ]
  },
  {
   "cell_type": "markdown",
   "id": "085480f5",
   "metadata": {},
   "source": [
    "lasso prediction value of 2022 model 743601.61370337"
   ]
  },
  {
   "cell_type": "markdown",
   "id": "1cbe0841",
   "metadata": {},
   "source": [
    "linear regression prediction value of 2022 model is  743601.61594504"
   ]
  },
  {
   "cell_type": "markdown",
   "id": "31f78d9b",
   "metadata": {},
   "source": [
    "# MSE values in lasso and linear regression"
   ]
  },
  {
   "cell_type": "markdown",
   "id": "eb0f2ace",
   "metadata": {},
   "source": [
    " Mean squared error  in the data set using lasso regression  4326906210.343814"
   ]
  },
  {
   "cell_type": "markdown",
   "id": "407e4096",
   "metadata": {},
   "source": [
    "Mean aquare error in the data set using linear regression  4326906256.829671"
   ]
  },
  {
   "cell_type": "markdown",
   "id": "d6f4c6f2",
   "metadata": {},
   "source": [
    "lasso is the modified form of linear regression ,MSE values of lasso is slight less than MSE values in linear regression"
   ]
  },
  {
   "cell_type": "markdown",
   "id": "ab8f29b4",
   "metadata": {},
   "source": [
    "# so lasso model is predicting better than linear model"
   ]
  }
 ],
 "metadata": {
  "kernelspec": {
   "display_name": "Python 3 (ipykernel)",
   "language": "python",
   "name": "python3"
  },
  "language_info": {
   "codemirror_mode": {
    "name": "ipython",
    "version": 3
   },
   "file_extension": ".py",
   "mimetype": "text/x-python",
   "name": "python",
   "nbconvert_exporter": "python",
   "pygments_lexer": "ipython3",
   "version": "3.9.12"
  }
 },
 "nbformat": 4,
 "nbformat_minor": 5
}
